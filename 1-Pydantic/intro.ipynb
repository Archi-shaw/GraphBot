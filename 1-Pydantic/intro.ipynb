{
 "cells": [
  {
   "cell_type": "markdown",
   "id": "2ebbc5da",
   "metadata": {},
   "source": [
    "#### Pydantic Basics: Creating and using Models\n",
    "\n",
    "Pydantic models are the foundation of data validation in Python. They use Python type anotations to define the structure and validate data at the run time. Here's a detailed exploration of basic model creation with serveral examples."
   ]
  },
  {
   "cell_type": "code",
   "execution_count": null,
   "id": "af69a369",
   "metadata": {},
   "outputs": [],
   "source": [
    "from pydantic import BaseModel"
   ]
  },
  {
   "cell_type": "code",
   "execution_count": null,
   "id": "c9ae337c",
   "metadata": {},
   "outputs": [],
   "source": [
    "class Person(BaseModel):\n",
    "    name:str\n",
    "    age:int\n",
    "    city:str\n",
    "\n",
    "person=Person(name=\"Archi\",age=13,city=\"Kolkata\")\n",
    "print(person)"
   ]
  },
  {
   "cell_type": "code",
   "execution_count": null,
   "id": "6ff1e0fc",
   "metadata": {},
   "outputs": [],
   "source": [
    "type(person)"
   ]
  },
  {
   "cell_type": "markdown",
   "id": "ec8793ce",
   "metadata": {},
   "source": [
    "#### 2. Model with Optional Field\n",
    "\n",
    "  Add optional fields using Python's Optional type:"
   ]
  },
  {
   "cell_type": "code",
   "execution_count": null,
   "id": "50c10840",
   "metadata": {},
   "outputs": [],
   "source": [
    "from typing import Optional\n",
    "class Employee(BaseModel):\n",
    "    id: int\n",
    "    name: str\n",
    "    department: str\n",
    "    salary: Optional[float] = None\n",
    "    is_active: Optional[bool] = True"
   ]
  },
  {
   "cell_type": "code",
   "execution_count": null,
   "id": "7de3dbd7",
   "metadata": {},
   "outputs": [],
   "source": [
    "emp1 = Employee(id=12,name=\"Archi\", department=\"Cse\",salary=7860000)\n",
    "print(emp1)"
   ]
  },
  {
   "cell_type": "markdown",
   "id": "4a623682",
   "metadata": {},
   "source": [
    "#### Defination\n",
    "  - Optional[type]: Indicate the fields can be none.\n",
    "  - Default Values(=None or =True): Makes the fiels optional.\n",
    "  - Required must still be provided.\n",
    "  - Pydantic validates types for optional fields when value are provided."
   ]
  },
  {
   "cell_type": "code",
   "execution_count": null,
   "id": "3d2030fc",
   "metadata": {},
   "outputs": [],
   "source": [
    "from pydantic import BaseModel\n",
    "from typing import List\n",
    "\n",
    "class Classroom(BaseModel):\n",
    "    room_no: str\n",
    "    students: List[str]\n",
    "    capacity: int\n"
   ]
  },
  {
   "cell_type": "code",
   "execution_count": null,
   "id": "a9f87f55",
   "metadata": {},
   "outputs": [],
   "source": [
    "classroom = Classroom(room_no=\"303\",students=(\"Alice\", \"john\",\"Charlie\"),capacity=34)\n",
    "print(classroom)\n"
   ]
  },
  {
   "cell_type": "code",
   "execution_count": null,
   "id": "925b0e16",
   "metadata": {},
   "outputs": [],
   "source": [
    "try:\n",
    "    invalid_val=Classroom(room_no=\"303\",students=(\"Alice\", 123),capacity=34)\n",
    "except ValueError as e:\n",
    "    print(e)"
   ]
  },
  {
   "cell_type": "markdown",
   "id": "9962bdd1",
   "metadata": {},
   "source": [
    "#### 4. Models with Nested Models\n",
    "\n",
    " Create complex structures with nested models:"
   ]
  },
  {
   "cell_type": "code",
   "execution_count": 17,
   "id": "bf56f4ce",
   "metadata": {},
   "outputs": [
    {
     "name": "stdout",
     "output_type": "stream",
     "text": [
      "customer_id=224 name='Archi' address=Address(street='123 Main st', city='Boston', zip_code='700032')\n"
     ]
    }
   ],
   "source": [
    "from pydantic import BaseModel\n",
    "\n",
    "class Address(BaseModel):\n",
    "    street: str\n",
    "    city:str\n",
    "    zip_code:str\n",
    "\n",
    "class Customer(BaseModel):\n",
    "    customer_id: int\n",
    "    name: str\n",
    "    address: Address\n",
    "\n",
    "customer = Customer(\n",
    "    customer_id= 224,\n",
    "    name=\"Archi\",\n",
    "    address={\"street\": \"123 Main st\",\"city\" :\"Boston\", \"zip_code\": \"700032\"}\n",
    ")\n",
    "print(customer)"
   ]
  },
  {
   "cell_type": "markdown",
   "id": "401b95d3",
   "metadata": {},
   "source": [
    "#### Pydantic Feilds: Customization and Constraints\n",
    "\n",
    "The Field function in Pydantic enhances model fields beyond basic type hints by allowing you to specify validation rules, default values , aliass ,and more. \n"
   ]
  },
  {
   "cell_type": "code",
   "execution_count": 21,
   "id": "c03713f8",
   "metadata": {},
   "outputs": [
    {
     "name": "stdout",
     "output_type": "stream",
     "text": [
      "name='Archi' price=123 quantity=0\n"
     ]
    }
   ],
   "source": [
    "from pydantic import BaseModel, Field\n",
    "class Item(BaseModel):\n",
    "    name:str=Field(min_length=2,max_length=100)\n",
    "    price:int=Field(gt=0,le=10000)\n",
    "    quantity:int=Field(ge=0)\n",
    "\n",
    "item = Item(name=\"Archi\",price=123,quantity=0)\n",
    "print(item)"
   ]
  },
  {
   "cell_type": "code",
   "execution_count": 22,
   "id": "13311e7b",
   "metadata": {},
   "outputs": [
    {
     "name": "stdout",
     "output_type": "stream",
     "text": [
      "username='Alice' age=18 email='user@example.com'\n",
      "username='bob' age=23 email='afhonn@gmail.com'\n"
     ]
    }
   ],
   "source": [
    "from pydantic import BaseModel, Field\n",
    "\n",
    "class User(BaseModel):\n",
    "    username: str=Field(...,description=\"Unique username for the user\")\n",
    "    age: int=Field(default=18, description=\"User age, defaults to 18\")\n",
    "    email: str=Field(default_factory= lambda: \"user@example.com\", description=\"Default email address\")\n",
    "\n",
    "user1= User(username=\"Alice\")\n",
    "print(user1)\n",
    "\n",
    "user2 = User(username=\"bob\",age=23,email=\"afhonn@gmail.com\")\n",
    "print(user2)"
   ]
  },
  {
   "cell_type": "code",
   "execution_count": 24,
   "id": "c41d0a9e",
   "metadata": {},
   "outputs": [
    {
     "name": "stdout",
     "output_type": "stream",
     "text": [
      "{'properties': {'username': {'description': 'Unique username for the user', 'title': 'Username', 'type': 'string'}, 'age': {'default': 18, 'description': 'User age, defaults to 18', 'title': 'Age', 'type': 'integer'}, 'email': {'description': 'Default email address', 'title': 'Email', 'type': 'string'}}, 'required': ['username'], 'title': 'User', 'type': 'object'}\n"
     ]
    }
   ],
   "source": [
    "print(User.model_json_schema())"
   ]
  }
 ],
 "metadata": {
  "kernelspec": {
   "display_name": "Python 3",
   "language": "python",
   "name": "python3"
  },
  "language_info": {
   "codemirror_mode": {
    "name": "ipython",
    "version": 3
   },
   "file_extension": ".py",
   "mimetype": "text/x-python",
   "name": "python",
   "nbconvert_exporter": "python",
   "pygments_lexer": "ipython3",
   "version": "3.9.21"
  }
 },
 "nbformat": 4,
 "nbformat_minor": 5
}
