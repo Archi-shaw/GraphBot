{
 "cells": [
  {
   "cell_type": "code",
   "execution_count": 81,
   "id": "37685391",
   "metadata": {},
   "outputs": [],
   "source": [
    "## tools\n",
    "\n",
    "from langchain_community.tools import ArxivQueryRun,WikipediaQueryRun\n",
    "from langchain_community.utilities import WikipediaAPIWrapper,ArxivAPIWrapper"
   ]
  },
  {
   "cell_type": "code",
   "execution_count": 82,
   "id": "c7917a52",
   "metadata": {},
   "outputs": [
    {
     "name": "stdout",
     "output_type": "stream",
     "text": [
      "arxiv\n"
     ]
    }
   ],
   "source": [
    "api_wrapper_arxiv = ArxivAPIWrapper(top_k_results=2,doc_content_chars_max=500)\n",
    "arxiv=ArxivQueryRun(api_wrapper=api_wrapper_arxiv,description=\"Query ariv papers\")\n",
    "print(arxiv.name)"
   ]
  },
  {
   "cell_type": "code",
   "execution_count": 83,
   "id": "4021da3a",
   "metadata": {},
   "outputs": [
    {
     "data": {
      "text/plain": [
       "'Published: 2023-05-23\\nTitle: Fast and energy-efficient non-volatile III-V-on-silicon photonic phase shifter based on memristors\\nAuthors: Zhuoran Fang, Bassem Tossoun, Antoine Descos, Di Liang, Xue Huang, Geza Kurczveil, Arka Majumdar, Raymond G. Beausoleil\\nSummary: Silicon photonics has evolved from lab research to commercial products in the\\npast decade as it plays an increasingly crucial role in data communication for\\nnext-generation data centers and high performance computing1. Recently,\\nprogr'"
      ]
     },
     "execution_count": 83,
     "metadata": {},
     "output_type": "execute_result"
    }
   ],
   "source": [
    "arxiv.invoke(\"What is the latest research on quantum computing?\")"
   ]
  },
  {
   "cell_type": "code",
   "execution_count": 84,
   "id": "679d7ba9",
   "metadata": {},
   "outputs": [
    {
     "name": "stdout",
     "output_type": "stream",
     "text": [
      "wikipedia\n"
     ]
    }
   ],
   "source": [
    "api_wrapper_wiki = WikipediaAPIWrapper(top_k_results=1,doc_content_chars_max=500)\n",
    "wiki=WikipediaQueryRun(api_wrapper=api_wrapper_wiki)\n",
    "print(wiki.name)"
   ]
  },
  {
   "cell_type": "code",
   "execution_count": 85,
   "id": "50593ebb",
   "metadata": {},
   "outputs": [],
   "source": [
    "from dotenv import load_dotenv\n",
    "load_dotenv()\n",
    "import os\n",
    "\n",
    "os.environ[\"TAVILY_API_KEY\"]=os.getenv(\"TAVILY_API_KEY\")\n",
    "os.environ[\"GROQ_API_KEY\"]=os.getenv(\"GROQ_API_KEY\")"
   ]
  },
  {
   "cell_type": "code",
   "execution_count": 86,
   "id": "4ec377e8",
   "metadata": {},
   "outputs": [],
   "source": [
    "from langchain_community.tools.tavily_search import TavilySearchResults\n",
    "\n",
    "tavily = TavilySearchResults()\n"
   ]
  },
  {
   "cell_type": "code",
   "execution_count": 87,
   "id": "002aa6a8",
   "metadata": {},
   "outputs": [
    {
     "data": {
      "text/plain": [
       "[{'title': 'Artificial Intelligence News - ScienceDaily',\n",
       "  'url': 'https://www.sciencedaily.com/news/computers_math/artificial_intelligence/',\n",
       "  'content': 'Artificial Intelligence News\\n\\nTop Headlines\\n\\nLatest Headlines\\n\\nEarlier Headlines\\n\\nThursday, April 3, 2025\\n\\nThursday, March 27, 2025\\n\\nWednesday, March 26, 2025\\n\\nTuesday, March 25, 2025\\n\\nWednesday, March 19, 2025\\n\\nTuesday, March 18, 2025\\n\\nMonday, March 17, 2025\\n\\nThursday, March 6, 2025\\n\\nWednesday, March 5, 2025\\n\\nTuesday, March 4, 2025\\n\\nWednesday, February 26, 2025\\n\\nTuesday, February 25, 2025\\n\\nFriday, February 21, 2025\\n\\nThursday, February 20, 2025\\n\\nWednesday, February 19, 2025 [...] Thursday, February 13, 2025\\n\\nMonday, February 10, 2025\\n\\nMonday, February 3, 2025\\n\\nWednesday, January 29, 2025\\n\\nTuesday, January 28, 2025\\n\\nMonday, January 27, 2025\\n\\nTuesday, January 21, 2025\\n\\nThursday, January 16, 2025\\n\\nWednesday, January 15, 2025\\n\\nTuesday, January 14, 2025\\n\\nThursday, January 9, 2025\\n\\nWednesday, January 8, 2025\\n\\nMonday, January 6, 2025\\n\\nThursday, January 2, 2025\\n\\nFriday, December 27, 2024\\n\\nThursday, December 26, 2024\\n\\nThursday, December 19, 2024\\n\\nWednesday, December 18, 2024 [...] Tuesday, December 17, 2024\\n\\nMonday, December 16, 2024\\n\\nTuesday, December 10, 2024\\n\\nMonday, December 9, 2024\\n\\nFriday, December 6, 2024\\n\\nWednesday, December 4, 2024\\n\\nMonday, December 2, 2024\\n\\nFriday, November 29, 2024\\n\\nTuesday, November 26, 2024\\n\\nMonday, November 25, 2024\\n\\nThursday, November 21, 2024\\n\\nWednesday, November 20, 2024\\n\\nTuesday, November 19, 2024\\n\\nMonday, November 18, 2024\\n\\nSaturday, November 16, 2024\\n\\nThursday, November 14, 2024\\n\\nWednesday, November 13, 2024',\n",
       "  'score': 0.6999322},\n",
       " {'title': 'Artificial intelligence - NBC News',\n",
       "  'url': 'https://www.nbcnews.com/artificial-intelligence',\n",
       "  'content': \"Nightly News\\n\\n03:15\\n\\nChristie's begins AI art auction amid backlash\\n\\nNBC News NOW\\n\\n02:16\\n\\nVance says U.S. will be the ‘gold standard’ of AI technology\\n\\n03:36\\n\\nAI startup DeepSeek causes buzz in China but draws global scrutiny over censorship and security\\n\\nNBC News NOW\\n\\n02:03\\n\\nA.I. leaders say China may have copied U.S. technology\\n\\nNightly News\\n\\n08:23\\n\\nNew Chinese A.I. tool 'DeepSeek' competes with American models\\n\\nNBC News NOW\\n\\nMORE AI NEWS [...] Profile\\n\\nSections\\n\\nLocal\\n\\ntv\\n\\nFeatured\\n\\nMore From NBC\\n\\nFollow NBC News\\n\\nnews Alerts\\n\\nThere are no new alerts at this time\\n\\nARTIFICIAL INTELLIGENCE\\n\\nThe latest news and top stories on artificial intelligence, including ChatGPT, AI Chatbot and Bard.\\n\\nJosh Gottheimer uses AI in anti-Trump ad for the New Jersey governor's race\\n\\nChina's robots race against humans — and their U.S. counterparts\\n\\nAI NEWS\\n\\nArtificial intelligence [...] OpenAI urges U.S. to allow AI models to train on copyrighted material\\n\\nOver half of American adults have used an AI chatbot, survey finds\\n\\nAI can steal your voice, and there's not much you can do about it\\n\\nSome of her closest relationships are with chatbots. That's more common than you think.\\n\\nBipartisan congressional duo encourages governors to ban DeepSeek on government devices\\n\\nLATEST ON NBC NEWS\\n\\nTemu customers in the U.S. hit with steep import charges due to tariffs\",\n",
       "  'score': 0.63615024},\n",
       " {'title': 'Artificial Intelligence - Latest AI News and Analysis - WSJ.com',\n",
       "  'url': 'https://www.wsj.com/tech/ai',\n",
       "  'content': 'The latest artificial intelligence news coverage focusing on the technology, tools and the companies building AI technology.',\n",
       "  'score': 0.6350646},\n",
       " {'title': 'Latest AI news and blog posts - Google AI',\n",
       "  'url': 'https://ai.google/latest-news/',\n",
       "  'content': 'Read about the latest AI news and explore blogs for researchers, IT leaders, developers, and more.',\n",
       "  'score': 0.6241337},\n",
       " {'title': 'AI News | Latest AI News, Analysis & Events',\n",
       "  'url': 'https://www.artificialintelligence-news.com/',\n",
       "  'content': \"Alarming rise in AI-powered scams: Microsoft reveals $4 Billion in thwarted fraud · RAGEN: AI framework tackles LLM agent instability · China's MCP adoption: AI\",\n",
       "  'score': 0.5900477}]"
      ]
     },
     "execution_count": 87,
     "metadata": {},
     "output_type": "execute_result"
    }
   ],
   "source": [
    "tavily.invoke(\"Provide me all the recent AI news\")"
   ]
  },
  {
   "cell_type": "code",
   "execution_count": 88,
   "id": "1cdbed99",
   "metadata": {},
   "outputs": [],
   "source": [
    "## combine all tools \n",
    "tools = [arxiv,wiki,tavily]"
   ]
  },
  {
   "cell_type": "code",
   "execution_count": 89,
   "id": "7d03902c",
   "metadata": {},
   "outputs": [],
   "source": [
    "## Intialize the LLM model\n",
    "\n",
    "from langchain_groq import ChatGroq\n",
    "\n",
    "llm=ChatGroq(model=\"qwen-qwq-32b\")"
   ]
  },
  {
   "cell_type": "code",
   "execution_count": 90,
   "id": "a53d4aad",
   "metadata": {},
   "outputs": [
    {
     "data": {
      "text/plain": [
       "AIMessage(content='\\n<think>\\nOkay, so the user is asking, \"What is AI?\" Let me start by breaking down what I know about AI. First, I should define AI in simple terms. Maybe start with the acronym—Artificial Intelligence. Then explain that it\\'s about making machines smart, so they can do tasks that usually need human intelligence. But wait, I should make sure that definition is accurate.\\n\\nHmm, I remember reading that AI involves things like learning, problem-solving, and perception. Maybe I should list some key characteristics. Also, there are different types of AI. Like narrow or weak AI versus general or strong AI. Narrow AI is what we see now, like Siri or Alexa, right? They do specific tasks but aren\\'t self-aware. General AI is the hypothetical kind that can handle any intellectual task a human can, which isn\\'t around yet.\\n\\nI should mention some applications to make it concrete. Examples like recommendation systems on Netflix, self-driving cars, chatbots. That helps people relate. Oh, and maybe touch on the techniques used in AI, like machine learning and deep learning. Wait, machine learning is a subset of AI, right? And deep learning is a part of machine learning using neural networks.\\n\\nAlso, maybe explain how AI works in a basic way. Like, AI systems use data and algorithms to make decisions or predictions. For example, training a model on a dataset so it can recognize patterns. Maybe give a simple example, like how a spam filter learns to distinguish spam emails by analyzing past data.\\n\\nI should also address the difference between AI and robotics. AI can exist without physical form, like software applications. But robotics is one application area where AI might be used to control robots.\\n\\nOh, and there are ethical considerations. Like bias in AI systems, privacy issues, job displacement. That\\'s an important aspect to mention briefly since the question is general but it\\'s essential to note that AI\\'s development isn\\'t without challenges.\\n\\nWait, the user might be a beginner, so I should avoid jargon as much as possible. Maybe start with the basic definition, then go into types, examples, techniques, and challenges. Structure it in a way that\\'s easy to follow. Let me check if I\\'m missing any key points. Maybe mention the history briefly? Like early concepts versus modern advancements. But since the question is \"what is AI,\" maybe the history isn\\'t necessary unless it\\'s a brief mention.\\n\\nAlso, clarify that AI is a broad field with various subfields, such as natural language processing, computer vision. But maybe not go too deep unless needed. The user might want a concise answer but comprehensive enough.\\n\\nWait, I should make sure to differentiate between AI and automation. Automation is doing repetitive tasks without intelligence, while AI involves some level of learning or decision-making. That distinction might be important to avoid confusion.\\n\\nPutting it all together: start with a definition, then break down the components like types, techniques, applications, and challenges. Keep it clear and structured. Alright, that should cover the main points without overwhelming the reader. Let me organize this into sections mentally before writing it out.\\n</think>\\n\\n**Artificial Intelligence (AI)** refers to the simulation of human intelligence in machines, enabling them to perform tasks that typically require human cognition, such as learning, reasoning, problem-solving, perception, and decision-making. Here\\'s a structured breakdown:\\n\\n### 1. **Core Definition**  \\nAI involves creating systems that can:  \\n- **Learn**: Improve performance on tasks over time using data.  \\n- **Reason**: Make decisions and solve problems.  \\n- **Perceive**: Interpret sensory inputs (e.g., images,声音, text).  \\n- **Act**: Perform actions to achieve goals (e.g., robotics, software responses).  \\n\\n### 2. **Types of AI**  \\n- **Narrow (Weak) AI**: Designed for specific tasks (e.g., voice assistants like Siri, recommendation algorithms on Netflix). This is the only type widely used today.  \\n- **General (Strong) AI**: Hypothetical systems capable of human-like intelligence across *any* task (not yet achieved).  \\n- **Artificial Superintelligence**: A speculative future stage where AI surpasses human capabilities in *all* areas (theorized but not studied in practice).  \\n\\n### 3. **Key Techniques**  \\n- **Machine Learning (ML)**: A subset of AI where systems learn patterns from data (e.g., spam detection).  \\n  - **Deep Learning**: A type of ML using artificial neural networks inspired by the brain, used in tasks like image recognition.  \\n- **Natural Language Processing (NLP)**: Enables machines to understand and generate human language (e.g., chatbots, translation tools).  \\n- **Computer Vision**: Allows systems to interpret visual data (e.g., facial recognition, self-driving cars).  \\n\\n### 4. **Applications**  \\n- **Everyday Use**: Virtual assistants, search engines, personalized ads.  \\n- **Healthcare**: Diagnosis support, drug discovery.  \\n- **Transportation**: Autonomous vehicles, logistics optimization.  \\n- **Business**: Fraud detection, customer service chatbots.  \\n\\n### 5. **How It Works**  \\n- **Data-Driven**: AI systems rely on large datasets to train models.  \\n- **Algorithms**: Mathematical procedures that process data (e.g., decision trees, neural networks).  \\n- **Feedback Loops**: Systems often improve through trial and error or user interactions.  \\n\\n### 6. **Challenges & Ethics**  \\n- **Bias**: AI can inherit biases from training data (e.g., facial recognition errors).  \\n- **Privacy**: Data collection raises concerns about personal information.  \\n- **Job Impact**: Automation may displace certain roles but also create new opportunities.  \\n- **Safety & Control**: Ensuring AI aligns with human values (e.g., ethical AI frameworks).  \\n\\n### 7. **AI vs. Automation**  \\n- **Automation** performs repetitive tasks without intelligence (e.g., assembly lines).  \\n- **AI** involves adaptive learning and decision-making beyond predefined rules.  \\n\\n### 8. **Historical Context**  \\n- **Early Roots**: Concept explored in the 1950s; recent advancements stem from big data, computing power, and improved algorithms.  \\n\\n### Summary  \\nAI is a rapidly evolving field that mimics human intelligence to solve complex problems. While current systems are specialized, ongoing research aims to advance capabilities responsibly, addressing ethical and societal implications.', additional_kwargs={}, response_metadata={'token_usage': {'completion_tokens': 1317, 'prompt_tokens': 14, 'total_tokens': 1331, 'completion_time': 3.3046247380000002, 'prompt_time': 0.004284961, 'queue_time': 0.692568863, 'total_time': 3.308909699}, 'model_name': 'qwen-qwq-32b', 'system_fingerprint': 'fp_07cd5d759a', 'finish_reason': 'stop', 'logprobs': None}, id='run-721b5eeb-f66a-4c6b-8f7c-535fda4e4029-0', usage_metadata={'input_tokens': 14, 'output_tokens': 1317, 'total_tokens': 1331})"
      ]
     },
     "execution_count": 90,
     "metadata": {},
     "output_type": "execute_result"
    }
   ],
   "source": [
    "llm.invoke(\"What is AI?\")"
   ]
  },
  {
   "cell_type": "code",
   "execution_count": 91,
   "id": "b52aa0ab",
   "metadata": {},
   "outputs": [],
   "source": [
    "llm_with_tools=llm.bind_tools(tools=tools)"
   ]
  },
  {
   "cell_type": "code",
   "execution_count": 92,
   "id": "4ff48653",
   "metadata": {},
   "outputs": [
    {
     "data": {
      "text/plain": [
       "AIMessage(content='', additional_kwargs={'tool_calls': [{'id': 'call_kjak', 'function': {'arguments': '{\"query\": \"recent news on AI\"}', 'name': 'tavily_search_results_json'}, 'type': 'function'}]}, response_metadata={'token_usage': {'completion_tokens': 170, 'prompt_tokens': 356, 'total_tokens': 526, 'completion_time': 0.414820166, 'prompt_time': 0.090451017, 'queue_time': 0.45721851299999994, 'total_time': 0.505271183}, 'model_name': 'qwen-qwq-32b', 'system_fingerprint': 'fp_fbb7e6cc39', 'finish_reason': 'tool_calls', 'logprobs': None}, id='run-d2b26c0f-5dc9-45d7-b1c8-c35132d61665-0', tool_calls=[{'name': 'tavily_search_results_json', 'args': {'query': 'recent news on AI'}, 'id': 'call_kjak', 'type': 'tool_call'}], usage_metadata={'input_tokens': 356, 'output_tokens': 170, 'total_tokens': 526})"
      ]
     },
     "execution_count": 92,
     "metadata": {},
     "output_type": "execute_result"
    }
   ],
   "source": [
    "llm_with_tools.invoke(\"What is the recent news on ai?\")"
   ]
  },
  {
   "cell_type": "code",
   "execution_count": 93,
   "id": "b9493a6d",
   "metadata": {},
   "outputs": [
    {
     "data": {
      "text/plain": [
       "AIMessage(content='', additional_kwargs={'tool_calls': [{'id': 'call_3msb', 'function': {'arguments': '{\"query\": \"Machine Learning\"}', 'name': 'wikipedia'}, 'type': 'function'}]}, response_metadata={'token_usage': {'completion_tokens': 179, 'prompt_tokens': 352, 'total_tokens': 531, 'completion_time': 0.435917111, 'prompt_time': 0.052623073, 'queue_time': 0.27459707699999997, 'total_time': 0.488540184}, 'model_name': 'qwen-qwq-32b', 'system_fingerprint': 'fp_fbb7e6cc39', 'finish_reason': 'tool_calls', 'logprobs': None}, id='run-86dbb077-7eff-4733-b020-4ba73417d773-0', tool_calls=[{'name': 'wikipedia', 'args': {'query': 'Machine Learning'}, 'id': 'call_3msb', 'type': 'tool_call'}], usage_metadata={'input_tokens': 352, 'output_tokens': 179, 'total_tokens': 531})"
      ]
     },
     "execution_count": 93,
     "metadata": {},
     "output_type": "execute_result"
    }
   ],
   "source": [
    "llm_with_tools.invoke(\"What is ml?\")"
   ]
  },
  {
   "cell_type": "markdown",
   "id": "a3f2f421",
   "metadata": {},
   "source": [
    "#### WORKFLOW"
   ]
  },
  {
   "cell_type": "code",
   "execution_count": 94,
   "id": "10c4ec64",
   "metadata": {},
   "outputs": [],
   "source": [
    "#State Schema\n",
    "from typing_extensions import TypedDict\n",
    "from langchain_core.messages import AnyMessage\n",
    "from typing import Annotated\n",
    "from langgraph.graph.message import add_messages"
   ]
  },
  {
   "cell_type": "code",
   "execution_count": 95,
   "id": "c9582e94",
   "metadata": {},
   "outputs": [],
   "source": [
    "class State(TypedDict):\n",
    "    messages: Annotated[list[AnyMessage],add_messages]"
   ]
  },
  {
   "cell_type": "code",
   "execution_count": 96,
   "id": "1b11871d",
   "metadata": {},
   "outputs": [],
   "source": [
    "## Entire Chatbot with Langgraph\n",
    "\n",
    "from IPython.display import Image,display\n",
    "from langgraph.graph import StateGraph,START,END\n",
    "from langgraph.prebuilt import ToolNode\n",
    "from langgraph.prebuilt import tools_condition"
   ]
  },
  {
   "cell_type": "code",
   "execution_count": 97,
   "id": "e7d37e1a",
   "metadata": {},
   "outputs": [
    {
     "data": {
      "image/png": "[encoded data removed]",
      "text/plain": [
       "<IPython.core.display.Image object>"
      ]
     },
     "metadata": {},
     "output_type": "display_data"
    }
   ],
   "source": [
    "def tool_calling_llm(state: State):\n",
    "    return {\"message:\": [llm_with_tools.invoke(state[\"messages\"])]}\n",
    "\n",
    "#Buildgraph\n",
    "builder = StateGraph(State)\n",
    "builder.add_node(\"tool_calling_llm\",tool_calling_llm)\n",
    "builder.add_node(\"tools\", ToolNode(tools))\n",
    "\n",
    "##Edges\n",
    "builder.add_edge(START,\"tool_calling_llm\")\n",
    "builder.add_conditional_edges(\"tool_calling_llm\",tools_condition)\n",
    "builder.add_edge(\"tools\",END)\n",
    "graph=builder.compile()\n",
    "\n",
    "display(Image(graph.get_graph().draw_mermaid_png()))"
   ]
  }
 ],
 "metadata": {
  "kernelspec": {
   "display_name": "Python 3",
   "language": "python",
   "name": "python3"
  },
  "language_info": {
   "codemirror_mode": {
    "name": "ipython",
    "version": 3
   },
   "file_extension": ".py",
   "mimetype": "text/x-python",
   "name": "python",
   "nbconvert_exporter": "python",
   "pygments_lexer": "ipython3",
   "version": "3.9.21"
  }
 },
 "nbformat": 4,
 "nbformat_minor": 5
}
