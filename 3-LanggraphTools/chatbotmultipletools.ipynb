{
 "cells": [
  {
   "cell_type": "code",
   "execution_count": null,
   "id": "37685391",
   "metadata": {},
   "outputs": [],
   "source": [
    "## tools\n",
    "\n",
    "from langchain_community.tools import ArxivQueryRun,WikipediaQueryRun\n",
    "from langchain_community.utilities import WikipediaAPIWrapper,ArxivAPIWrapper"
   ]
  },
  {
   "cell_type": "code",
   "execution_count": null,
   "id": "c7917a52",
   "metadata": {},
   "outputs": [],
   "source": [
    "api_wrapper_arxiv = ArxivAPIWrapper(top_k_results=2,doc_content_chars_max=500)\n",
    "arxiv=ArxivQueryRun(api_wrapper=api_wrapper_arxiv,description=\"Query ariv papers\")\n",
    "print(arxiv.name)"
   ]
  },
  {
   "cell_type": "code",
   "execution_count": 26,
   "id": "4021da3a",
   "metadata": {},
   "outputs": [
    {
     "data": {
      "text/plain": [
       "'Published: 2023-05-23\\nTitle: Fast and energy-efficient non-volatile III-V-on-silicon photonic phase shifter based on memristors\\nAuthors: Zhuoran Fang, Bassem Tossoun, Antoine Descos, Di Liang, Xue Huang, Geza Kurczveil, Arka Majumdar, Raymond G. Beausoleil\\nSummary: Silicon photonics has evolved from lab research to commercial products in the\\npast decade as it plays an increasingly crucial role in data communication for\\nnext-generation data centers and high performance computing1. Recently,\\nprogr'"
      ]
     },
     "execution_count": 26,
     "metadata": {},
     "output_type": "execute_result"
    }
   ],
   "source": [
    "arxiv.invoke(\"What is the latest research on quantum computing?\")"
   ]
  },
  {
   "cell_type": "code",
   "execution_count": 27,
   "id": "679d7ba9",
   "metadata": {},
   "outputs": [
    {
     "name": "stdout",
     "output_type": "stream",
     "text": [
      "wikipedia\n"
     ]
    }
   ],
   "source": [
    "api_wrapper_wiki = WikipediaAPIWrapper(top_k_results=1,doc_content_chars_max=500)\n",
    "wiki=WikipediaQueryRun(api_wrapper=api_wrapper_wiki)\n",
    "print(wiki.name)"
   ]
  },
  {
   "cell_type": "code",
   "execution_count": 28,
   "id": "50593ebb",
   "metadata": {},
   "outputs": [],
   "source": [
    "from dotenv import load_dotenv\n",
    "load_dotenv()\n",
    "import os\n",
    "\n",
    "os.environ[\"TAVILY_API_KEY\"]=os.getenv(\"TAVILY_API_KEY\")\n",
    "os.environ[\"GROQ_API_KEY\"]=os.getenv(\"GROQ_API_KEY\")"
   ]
  },
  {
   "cell_type": "code",
   "execution_count": 29,
   "id": "4ec377e8",
   "metadata": {},
   "outputs": [],
   "source": [
    "from langchain_community.tools.tavily_search import TavilySearchResults\n",
    "\n",
    "tavily = TavilySearchResults()\n"
   ]
  },
  {
   "cell_type": "code",
   "execution_count": 30,
   "id": "002aa6a8",
   "metadata": {},
   "outputs": [
    {
     "data": {
      "text/plain": [
       "[{'title': 'Artificial Intelligence News - ScienceDaily',\n",
       "  'url': 'https://www.sciencedaily.com/news/computers_math/artificial_intelligence/',\n",
       "  'content': 'Artificial Intelligence News\\n\\nTop Headlines\\n\\nLatest Headlines\\n\\nEarlier Headlines\\n\\nThursday, April 3, 2025\\n\\nThursday, March 27, 2025\\n\\nWednesday, March 26, 2025\\n\\nTuesday, March 25, 2025\\n\\nWednesday, March 19, 2025\\n\\nTuesday, March 18, 2025\\n\\nMonday, March 17, 2025\\n\\nThursday, March 6, 2025\\n\\nWednesday, March 5, 2025\\n\\nTuesday, March 4, 2025\\n\\nWednesday, February 26, 2025\\n\\nTuesday, February 25, 2025\\n\\nFriday, February 21, 2025\\n\\nThursday, February 20, 2025\\n\\nWednesday, February 19, 2025 [...] Thursday, February 13, 2025\\n\\nMonday, February 10, 2025\\n\\nMonday, February 3, 2025\\n\\nWednesday, January 29, 2025\\n\\nTuesday, January 28, 2025\\n\\nMonday, January 27, 2025\\n\\nTuesday, January 21, 2025\\n\\nThursday, January 16, 2025\\n\\nWednesday, January 15, 2025\\n\\nTuesday, January 14, 2025\\n\\nThursday, January 9, 2025\\n\\nWednesday, January 8, 2025\\n\\nMonday, January 6, 2025\\n\\nThursday, January 2, 2025\\n\\nFriday, December 27, 2024\\n\\nThursday, December 26, 2024\\n\\nThursday, December 19, 2024\\n\\nWednesday, December 18, 2024 [...] Tuesday, December 17, 2024\\n\\nMonday, December 16, 2024\\n\\nTuesday, December 10, 2024\\n\\nMonday, December 9, 2024\\n\\nFriday, December 6, 2024\\n\\nWednesday, December 4, 2024\\n\\nMonday, December 2, 2024\\n\\nFriday, November 29, 2024\\n\\nTuesday, November 26, 2024\\n\\nMonday, November 25, 2024\\n\\nThursday, November 21, 2024\\n\\nWednesday, November 20, 2024\\n\\nTuesday, November 19, 2024\\n\\nMonday, November 18, 2024\\n\\nSaturday, November 16, 2024\\n\\nThursday, November 14, 2024\\n\\nWednesday, November 13, 2024',\n",
       "  'score': 0.6999322},\n",
       " {'title': 'Artificial intelligence - NBC News',\n",
       "  'url': 'https://www.nbcnews.com/artificial-intelligence',\n",
       "  'content': \"Nightly News\\n\\n03:15\\n\\nChristie's begins AI art auction amid backlash\\n\\nNBC News NOW\\n\\n02:16\\n\\nVance says U.S. will be the ‘gold standard’ of AI technology\\n\\n03:36\\n\\nAI startup DeepSeek causes buzz in China but draws global scrutiny over censorship and security\\n\\nNBC News NOW\\n\\n02:03\\n\\nA.I. leaders say China may have copied U.S. technology\\n\\nNightly News\\n\\n08:23\\n\\nNew Chinese A.I. tool 'DeepSeek' competes with American models\\n\\nNBC News NOW\\n\\nMORE AI NEWS [...] 02:00\\n\\nUrgent push to criminalize explicit deepfakes\\n\\nNightly News\\n\\n02:24\\n\\nHow artificial intelligence could shape future of youth sports\\n\\nNightly News\\n\\n02:20\\n\\nCollege students warn of privacy risks from smart glasses\\n\\nNightly News\\n\\n03:15\\n\\nHarvard professor uses AI to replicate himself for tutor experiment\\n\\nNBC News NOW\\n\\n02:35\\n\\nMan files complaint after ChatGPT falsely claimed he murdered his children\\n\\nNBC News NOW\\n\\n02:54\\n\\nA.I. chatbots becoming popular but worry privacy advocates [...] Profile\\n\\nSections\\n\\nLocal\\n\\ntv\\n\\nFeatured\\n\\nMore From NBC\\n\\nFollow NBC News\\n\\nnews Alerts\\n\\nThere are no new alerts at this time\\n\\nARTIFICIAL INTELLIGENCE\\n\\nThe latest news and top stories on artificial intelligence, including ChatGPT, AI Chatbot and Bard.\\n\\nJosh Gottheimer uses AI in anti-Trump ad for the New Jersey governor's race\\n\\nChina's robots race against humans — and their U.S. counterparts\\n\\nAI NEWS\\n\\nArtificial intelligence\",\n",
       "  'score': 0.63615024},\n",
       " {'title': 'Artificial Intelligence - Latest AI News and Analysis - WSJ.com',\n",
       "  'url': 'https://www.wsj.com/tech/ai',\n",
       "  'content': 'The latest artificial intelligence news coverage focusing on the technology, tools and the companies building AI technology.',\n",
       "  'score': 0.6350646},\n",
       " {'title': 'Latest AI news and blog posts - Google AI',\n",
       "  'url': 'https://ai.google/latest-news/',\n",
       "  'content': 'Read about the latest AI news and explore blogs for researchers, IT leaders, developers, and more.',\n",
       "  'score': 0.6241337},\n",
       " {'title': 'AI News & Artificial Intelligence - TechCrunch',\n",
       "  'url': 'https://techcrunch.com/category/artificial-intelligence/',\n",
       "  'content': 'AI\\n\\nNews coverage on artificial intelligence and machine learning tech, the companies building them, and the ethical issues AI raises today. This encompasses generative AI, including large language models, text-to-image and text-to-video models; speech recognition and generation; and predictive analytics.\\n\\n\\n\\n\\n\\nHugging Face releases a 3D-printed robotic arm starting at $100\\n\\nHuawei aims to take on Nvidia’s H100 with new AI chip\\n\\nOpenAI upgrades ChatGPT search with shopping features [...] Topics\\n\\nLatest\\n\\nAI\\n\\nAmazon\\n\\nApps\\n\\nBiotech & Health\\n\\nClimate\\n\\nCloud Computing\\n\\nCommerce\\n\\nCrypto\\n\\nEnterprise\\n\\nEVs\\n\\nFintech\\n\\nFundraising\\n\\nGadgets\\n\\nGaming\\n\\nGoogle\\n\\nGovernment & Policy\\n\\nHardware\\n\\nInstagram\\n\\nLayoffs\\n\\nMedia & Entertainment\\n\\nMeta\\n\\nMicrosoft\\n\\nPrivacy\\n\\nRobotics\\n\\nSecurity\\n\\nSocial\\n\\nSpace\\n\\nStartups\\n\\nTikTok\\n\\nTransportation\\n\\nVenture\\n\\nMore from TechCrunch\\n\\nEvents\\n\\nStartup Battlefield\\n\\nStrictlyVC\\n\\nNewsletters\\n\\nPodcasts\\n\\nVideos\\n\\nPartner Content\\n\\nTechCrunch Brand Studio\\n\\nCrunchboard\\n\\nContact Us [...] Chinese AI startup Manus reportedly gets funding from Benchmark at $500M valuation\\n\\nAnthropic CEO wants to open the black box of AI models by 2027\\n\\nHow do you define cheating in the age of AI?\\n\\nOpenAI rolls out a ‘lightweight’ version of its ChatGPT deep research tool\\n\\nPerplexity CEO says its browser will track everything users do online to sell ‘hyper personalized’ ads\\n\\nPublic comments to White House on AI policy touch on copyright, tariffs',\n",
       "  'score': 0.6063825}]"
      ]
     },
     "execution_count": 30,
     "metadata": {},
     "output_type": "execute_result"
    }
   ],
   "source": [
    "tavily.invoke(\"Provide me all the recent AI news\")"
   ]
  },
  {
   "cell_type": "code",
   "execution_count": 31,
   "id": "1cdbed99",
   "metadata": {},
   "outputs": [],
   "source": [
    "## combine all tools \n",
    "tools = [arxiv,wiki,tavily]"
   ]
  },
  {
   "cell_type": "code",
   "execution_count": 32,
   "id": "7d03902c",
   "metadata": {},
   "outputs": [],
   "source": [
    "## Intialize the LLM model\n",
    "\n",
    "from langchain_groq import ChatGroq\n",
    "\n",
    "llm=ChatGroq(model=\"qwen-qwq-32b\")"
   ]
  },
  {
   "cell_type": "code",
   "execution_count": 33,
   "id": "a53d4aad",
   "metadata": {},
   "outputs": [
    {
     "data": {
      "text/plain": [
       "AIMessage(content='\\n<think>\\nOkay, so the user is asking, \"What is AI?\" Let me start by breaking down the term itself. AI stands for Artificial Intelligence. But what does that really mean? I remember from my studies that AI is a broad field in computer science focused on creating systems that can perform tasks that typically require human intelligence. But I should explain that more clearly.\\n\\nFirst, maybe I should define AI in simple terms. It\\'s about making machines intelligent. But intelligence here can mean different things. There\\'s the thinking humanly aspect, like mimicking human thought processes, and the acting rationally aspect, where the machine makes optimal decisions. Maybe I should mention those two types of intelligence from the philosophy part of AI.\\n\\nThen, I should categorize AI into types. There\\'s the distinction between weak AI and strong AI. Weak AI is designed for specific tasks, like voice recognition or image processing. Examples might include Siri or Alexa. They can handle their designated tasks but aren\\'t self-aware. On the other hand, strong AI would be systems that can perform any intellectual task a human can, but that\\'s more theoretical and not really achieved yet.\\n\\nI should also mention the different approaches within AI. Machine learning is a subset where algorithms learn from data. Neural networks are a part of that, inspired by the human brain. Deep learning is another term for neural networks with many layers, used in things like image and speech recognition. Then there\\'s symbolic AI, which uses logical rules. Maybe give examples of each to make it clearer.\\n\\nApplications are important too. AI is used in various fields: healthcare for diagnostics, finance for fraud detection, autonomous vehicles, customer service chatbots, etc. Highlighting real-world uses helps make the concept tangible.\\n\\nEthics and challenges are crucial. Issues like bias in AI systems, privacy concerns with data collection, job displacement, and the need for transparency and accountability. Raising these points shows a balanced view.\\n\\nI should also touch on the history briefly, mentioning early pioneers like Alan Turing and the Dartmouth Conference. This gives context about how AI has evolved over time.\\n\\nWait, I need to make sure I don\\'t get too technical. The user might be a beginner, so keeping explanations simple and avoiding jargon is key. Maybe use everyday examples they can relate to, like recommendation systems on Netflix or fraud alerts from banks.\\n\\nOh, and there\\'s the difference between narrow AI (narrow in scope) and general AI (AGI), which is hypothetical. That\\'s important to clarify so people don\\'t think current AI is as capable as humans.\\n\\nI should structure the answer logically: start with a definition, then types, approaches, applications, challenges, and history. Keep each section concise. Use bullet points or numbered lists for clarity. But since the user asked for a thinking process, I can just outline these points here before forming the final answer.\\n\\nWait, also, maybe mention some key terms like machine learning, neural networks, deep learning. But explain them in simple terms. For example, machine learning is about teaching machines with data rather than explicit programming. Neural networks are layers of nodes that process information, inspired by the brain.\\n\\nDon\\'t forget to address potential misconceptions. Like, AI isn\\'t just robots; it\\'s software too. And it\\'s not all about sentience; most AI today is task-specific.\\n\\nHmm, should I include how AI works at a high level? Maybe briefly mention that it involves algorithms analyzing data to make decisions. But not get too deep into the math unless necessary.\\n\\nAlso, touch on current advancements, like how AI can now generate text, images, and even music, which is part of the recent progress in generative models and large language models.\\n\\nThe ethical part is important to mention because it\\'s a hot topic. Issues like algorithmic bias, where AI systems might inherit biases from their training data, leading to unfair outcomes. Privacy concerns with data collection for training models. Autonomous weapons and the need for regulation.\\n\\nI should also note that AI is a multidisciplinary field, combining computer science, mathematics, psychology, linguistics, etc. This shows the breadth of the field.\\n\\nPutting it all together, the answer should start with a clear definition, then break down the key aspects, types, applications, and current issues. Keep it comprehensive but accessible for someone new to the topic. Avoid overwhelming with too much technical detail but provide enough to understand the basics and the implications.\\n</think>\\n\\n**Artificial Intelligence (AI): A Comprehensive Overview**\\n\\n**1. Definition:**  \\nArtificial Intelligence (AI) refers to the development of computer systems capable of performing tasks that typically require human intelligence. These tasks include learning, problem-solving, decision-making, perception, and language understanding.\\n\\n**2. Core Concepts:**  \\n- **Thinking Humanly vs. Acting Rationally:**  \\n  - *Thinking Humanly:* Mimicking human cognitive processes (e.g., reasoning, creativity).  \\n  - *Acting Rationally:* Making optimal decisions to achieve goals efficiently.  \\n\\n- **Types of AI:**  \\n  - **Weak (Narrow) AI:** Designed for specific tasks (e.g., voice assistants like Siri, recommendation systems on Netflix).  \\n  - **Strong (General) AI:** Hypothetical systems with human-like consciousness and adaptability to any task (not yet achieved).  \\n\\n**3. Key Approaches:**  \\n- **Machine Learning (ML):** Algorithms learn patterns from data to make predictions or decisions (e.g., spam filters).  \\n- **Deep Learning:** A subset of ML using neural networks with multiple layers (e.g., image recognition in apps like Google Photos).  \\n- **Symbolic AI (Rule-Based Systems):** Uses logical rules to solve problems (e.g., early chess-playing programs).  \\n\\n**4. Applications:**  \\n- **Healthcare:** Diagnosing diseases, drug discovery, and personalized treatment plans.  \\n- **Transportation:** Autonomous vehicles and traffic management.  \\n- **Finance:** Fraud detection, algorithmic trading, and credit scoring.  \\n- **Daily Life:** Virtual assistants, chatbots, and smart home devices.  \\n- **Creative Fields:** AI-generated art, music, and text (e.g., ChatGPT).  \\n\\n**5. Current Technologies:**  \\n- **Generative AI:** Creates content (images, text) using models like DALL-E or GPT-4.  \\n- **Computer Vision:** Allows machines to interpret visual data (e.g., facial recognition).  \\n- **Natural Language Processing (NLP):** Enables machines to understand and generate human language (e.g., translation tools).  \\n\\n**6. Challenges & Ethics:**  \\n- **Bias & Fairness:** AI can inherit biases from training data, leading to unfair outcomes (e.g., biased hiring algorithms).  \\n- **Privacy Concerns:** Massive data collection raises privacy risks (e.g., surveillance or unauthorized data use).  \\n- **Job Displacement:** Automation may affect certain industries, requiring workforce retraining.  \\n- **Safety & Control:** Debates around AI ethics, regulation, and avoiding unintended consequences (e.g., autonomous weapons).  \\n\\n**7. History & Evolution:**  \\n- **Early Foundations:** Pioneered by Alan Turing’s “Turing Test” (1950) and the Dartmouth Conference (1956).  \\n- **Modern Breakthroughs:** Advances in computing power, big data, and neural networks have spurred progress in recent years.  \\n\\n**8. Future Prospects:**  \\n- **General AI (AGI):** A long-term goal of creating machines with human-like adaptability.  \\n- **Ethical AI:** Developing AI systems that align with societal values and minimize harm.  \\n\\n**Conclusion:**  \\nAI is a dynamic field blending computer science, mathematics, and cognitive science. While it offers transformative potential in healthcare, innovation, and efficiency, its development must be guided by ethical considerations to ensure fairness and safety.  \\n\\nThis structured approach clarifies AI’s scope, applications, and implications, providing a balanced view for newcomers.', additional_kwargs={}, response_metadata={'token_usage': {'completion_tokens': 1624, 'prompt_tokens': 14, 'total_tokens': 1638, 'completion_time': 4.000009899, 'prompt_time': 0.002879016, 'queue_time': 0.24061192799999997, 'total_time': 4.002888915}, 'model_name': 'qwen-qwq-32b', 'system_fingerprint': 'fp_3796682456', 'finish_reason': 'stop', 'logprobs': None}, id='run-4eb8f44c-024f-4b83-955d-805c7c393289-0', usage_metadata={'input_tokens': 14, 'output_tokens': 1624, 'total_tokens': 1638})"
      ]
     },
     "execution_count": 33,
     "metadata": {},
     "output_type": "execute_result"
    }
   ],
   "source": [
    "llm.invoke(\"What is AI?\")"
   ]
  },
  {
   "cell_type": "code",
   "execution_count": 34,
   "id": "b52aa0ab",
   "metadata": {},
   "outputs": [],
   "source": [
    "llm_with_tools=llm.bind_tools(tools=tools)"
   ]
  },
  {
   "cell_type": "code",
   "execution_count": 35,
   "id": "4ff48653",
   "metadata": {},
   "outputs": [
    {
     "data": {
      "text/plain": [
       "AIMessage(content='', additional_kwargs={'tool_calls': [{'id': 'call_jad2', 'function': {'arguments': '{\"query\": \"Recent news on AI\"}', 'name': 'tavily_search_results_json'}, 'type': 'function'}]}, response_metadata={'token_usage': {'completion_tokens': 246, 'prompt_tokens': 356, 'total_tokens': 602, 'completion_time': 0.611091721, 'prompt_time': 0.045411662, 'queue_time': 0.7735387499999999, 'total_time': 0.656503383}, 'model_name': 'qwen-qwq-32b', 'system_fingerprint': 'fp_512a3da6bb', 'finish_reason': 'tool_calls', 'logprobs': None}, id='run-4942e2e4-7574-466d-a810-f0cb7b4c85be-0', tool_calls=[{'name': 'tavily_search_results_json', 'args': {'query': 'Recent news on AI'}, 'id': 'call_jad2', 'type': 'tool_call'}], usage_metadata={'input_tokens': 356, 'output_tokens': 246, 'total_tokens': 602})"
      ]
     },
     "execution_count": 35,
     "metadata": {},
     "output_type": "execute_result"
    }
   ],
   "source": [
    "llm_with_tools.invoke(\"What is the recent news on ai?\")"
   ]
  },
  {
   "cell_type": "code",
   "execution_count": 36,
   "id": "b9493a6d",
   "metadata": {},
   "outputs": [
    {
     "data": {
      "text/plain": [
       "AIMessage(content='', additional_kwargs={'tool_calls': [{'id': 'call_s2vx', 'function': {'arguments': '{\"query\": \"Machine Learning\"}', 'name': 'wikipedia'}, 'type': 'function'}]}, response_metadata={'token_usage': {'completion_tokens': 272, 'prompt_tokens': 352, 'total_tokens': 624, 'completion_time': 0.659985429, 'prompt_time': 0.021646209, 'queue_time': 0.255454513, 'total_time': 0.681631638}, 'model_name': 'qwen-qwq-32b', 'system_fingerprint': 'fp_a91d9c2cfb', 'finish_reason': 'tool_calls', 'logprobs': None}, id='run-9cbf0891-0afe-49b2-9597-e329a9d04db6-0', tool_calls=[{'name': 'wikipedia', 'args': {'query': 'Machine Learning'}, 'id': 'call_s2vx', 'type': 'tool_call'}], usage_metadata={'input_tokens': 352, 'output_tokens': 272, 'total_tokens': 624})"
      ]
     },
     "execution_count": 36,
     "metadata": {},
     "output_type": "execute_result"
    }
   ],
   "source": [
    "llm_with_tools.invoke(\"What is ml?\")"
   ]
  },
  {
   "cell_type": "markdown",
   "id": "a3f2f421",
   "metadata": {},
   "source": [
    "#### WORKFLOW"
   ]
  },
  {
   "cell_type": "code",
   "execution_count": 45,
   "id": "10c4ec64",
   "metadata": {},
   "outputs": [],
   "source": [
    "#State Schema\n",
    "from typing_extensions import TypedDict\n",
    "from langchain_core.messages import AnyMessage\n",
    "from typing import Annotated\n",
    "from langgraph.graph.message import add_messages"
   ]
  },
  {
   "cell_type": "code",
   "execution_count": 46,
   "id": "c9582e94",
   "metadata": {},
   "outputs": [],
   "source": [
    "class State(TypedDict):\n",
    "    messages: Annotated[list[AnyMessage],add_messages]"
   ]
  },
  {
   "cell_type": "code",
   "execution_count": 47,
   "id": "1b11871d",
   "metadata": {},
   "outputs": [],
   "source": [
    "## Entire Chatbot with Langgraph\n",
    "\n",
    "from IPython.display import Image,display\n",
    "from langgraph.graph import StateGraph,START,END\n",
    "from langgraph.prebuilt import ToolNode\n",
    "from langgraph.prebuilt import tools_condition"
   ]
  },
  {
   "cell_type": "code",
   "execution_count": 48,
   "id": "e7d37e1a",
   "metadata": {},
   "outputs": [
    {
     "data": {
      "image/png": "[encoded data removed]",
      "text/plain": [
       "<IPython.core.display.Image object>"
      ]
     },
     "metadata": {},
     "output_type": "display_data"
    }
   ],
   "source": [
    "def tool_calling_llm(state: State):\n",
    "    return {\"messages\": llm_with_tools.invoke(state[\"messages\"])}\n",
    "\n",
    "# Build graph\n",
    "builder = StateGraph(State)\n",
    "builder.add_node(\"tool_calling_llm\", tool_calling_llm)\n",
    "builder.add_node(\"tools\", ToolNode(tools))\n",
    "\n",
    "# Edges\n",
    "builder.add_edge(START, \"tool_calling_llm\")\n",
    "builder.add_conditional_edges(\n",
    "    \"tool_calling_llm\",\n",
    "    tools_condition,\n",
    ")\n",
    "builder.add_edge(\"tools\", END)\n",
    "\n",
    "graph = builder.compile()\n",
    "\n",
    "# Visualize the graph\n",
    "display(Image(graph.get_graph().draw_mermaid_png()))\n"
   ]
  },
  {
   "cell_type": "code",
   "execution_count": 49,
   "id": "a24b77fd",
   "metadata": {},
   "outputs": [
    {
     "name": "stdout",
     "output_type": "stream",
     "text": [
      "================================\u001b[1m Human Message \u001b[0m=================================\n",
      "\n",
      "1706.03762\n",
      "==================================\u001b[1m Ai Message \u001b[0m==================================\n",
      "Tool Calls:\n",
      "  arxiv (call_mxrt)\n",
      " Call ID: call_mxrt\n",
      "  Args:\n",
      "    query: 1706.03762\n",
      "=================================\u001b[1m Tool Message \u001b[0m=================================\n",
      "Name: arxiv\n",
      "\n",
      "Published: 2023-08-02\n",
      "Title: Attention Is All You Need\n",
      "Authors: Ashish Vaswani, Noam Shazeer, Niki Parmar, Jakob Uszkoreit, Llion Jones, Aidan N. Gomez, Lukasz Kaiser, Illia Polosukhin\n",
      "Summary: The dominant sequence transduction models are based on complex recurrent or\n",
      "convolutional neural networks in an encoder-decoder configuration. The best\n",
      "performing models also connect the encoder and decoder through an attention\n",
      "mechanism. We propose a new simple network architecture, the Transformer, base\n"
     ]
    }
   ],
   "source": [
    "messages=graph.invoke({\"messages\":\"1706.03762\"})\n",
    "for m in messages['messages']:\n",
    "    m.pretty_print()"
   ]
  },
  {
   "cell_type": "code",
   "execution_count": 50,
   "id": "9d09c299",
   "metadata": {},
   "outputs": [
    {
     "name": "stdout",
     "output_type": "stream",
     "text": [
      "================================\u001b[1m Human Message \u001b[0m=================================\n",
      "\n",
      "Hi my name is Archi\n",
      "==================================\u001b[1m Ai Message \u001b[0m==================================\n",
      "\n",
      "Hello Archi! Nice to meet you. How can I assist you today? Feel free to ask me any questions or let me know if you need help with anything specific! 😊\n"
     ]
    }
   ],
   "source": [
    "messages=graph.invoke({\"messages\":\"Hi my name is Archi\"})\n",
    "for m in messages['messages']:\n",
    "    m.pretty_print()"
   ]
  }
 ],
 "metadata": {
  "kernelspec": {
   "display_name": "Python 3",
   "language": "python",
   "name": "python3"
  },
  "language_info": {
   "codemirror_mode": {
    "name": "ipython",
    "version": 3
   },
   "file_extension": ".py",
   "mimetype": "text/x-python",
   "name": "python",
   "nbconvert_exporter": "python",
   "pygments_lexer": "ipython3",
   "version": "3.9.21"
  }
 },
 "nbformat": 4,
 "nbformat_minor": 5
}
